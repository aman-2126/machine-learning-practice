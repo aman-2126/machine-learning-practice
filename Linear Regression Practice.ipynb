{
 "cells": [
  {
   "cell_type": "code",
   "execution_count": 117,
   "id": "61fc64ce",
   "metadata": {},
   "outputs": [],
   "source": [
    "import pandas as pd \n",
    "from sklearn import linear_model\n",
    "from sklearn.metrics import mean_squared_error\n",
    "import numpy as np\n",
    "import matplotlib.pyplot as plt \n",
    "\n",
    "# loading the training dataset \n",
    "training_file = \"./linear_regression/train.csv\"\n",
    "names = ['x','y']\n",
    "data = pd.read_csv(training_file, names = names)\n",
    "data = data.dropna()\n",
    "train_dataset = data.to_numpy()\n",
    "\n",
    "\n",
    "# loading the testing dataset \n",
    "test_file = \"./linear_regression/test.csv\"\n",
    "names = ['x','y']\n",
    "data = pd.read_csv(test_file, names = names)\n",
    "data = data.dropna() \n",
    "test_dataset = data.to_numpy()\n",
    "\n",
    "# setting up the training data\n",
    "train_data_x = train_dataset[:,:1]\n",
    "train_data_y = train_dataset[:,1:2]\n",
    "\n",
    "# setting up the testing data\n",
    "test_data_x = test_dataset[:,:1]\n",
    "test_data_y = test_dataset[:,1:2]\n",
    "\n",
    "\n",
    "\n",
    "\n"
   ]
  },
  {
   "cell_type": "code",
   "execution_count": 118,
   "id": "e084e09a",
   "metadata": {},
   "outputs": [
    {
     "data": {
      "text/plain": [
       "LinearRegression()"
      ]
     },
     "execution_count": 118,
     "metadata": {},
     "output_type": "execute_result"
    }
   ],
   "source": [
    "# model\n",
    "model = linear_model.LinearRegression()\n",
    "model.fit(train_data_x,train_data_y)"
   ]
  },
  {
   "cell_type": "code",
   "execution_count": 119,
   "id": "00d008bf",
   "metadata": {},
   "outputs": [],
   "source": [
    "# predicting \n",
    "predicted_values = model.predict(test_data_x)"
   ]
  },
  {
   "cell_type": "code",
   "execution_count": 120,
   "id": "2e982aef",
   "metadata": {},
   "outputs": [
    {
     "name": "stdout",
     "output_type": "stream",
     "text": [
      "9.432922192039305\n"
     ]
    }
   ],
   "source": [
    "error = mean_squared_error(predicted_values, test_data_y)\n",
    "print(error)"
   ]
  },
  {
   "cell_type": "code",
   "execution_count": 121,
   "id": "03bbbbea",
   "metadata": {},
   "outputs": [
    {
     "data": {
      "image/png": "[encoded data removed]",
      "text/plain": [
       "<Figure size 432x288 with 1 Axes>"
      ]
     },
     "metadata": {
      "needs_background": "light"
     },
     "output_type": "display_data"
    }
   ],
   "source": [
    "plt.scatter(test_data_x,test_data_y)\n",
    "plt.plot(test_data_x,predicted_values, 'r--')\n",
    "plt.show()"
   ]
  },
  {
   "cell_type": "code",
   "execution_count": null,
   "id": "ab40e4ce",
   "metadata": {},
   "outputs": [],
   "source": []
  }
 ],
 "metadata": {
  "kernelspec": {
   "display_name": "Python 3 (ipykernel)",
   "language": "python",
   "name": "python3"
  },
  "language_info": {
   "codemirror_mode": {
    "name": "ipython",
    "version": 3
   },
   "file_extension": ".py",
   "mimetype": "text/x-python",
   "name": "python",
   "nbconvert_exporter": "python",
   "pygments_lexer": "ipython3",
   "version": "3.9.7"
  }
 },
 "nbformat": 4,
 "nbformat_minor": 5
}
