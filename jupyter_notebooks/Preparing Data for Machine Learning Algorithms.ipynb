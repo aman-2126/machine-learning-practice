{
 "cells": [
  {
   "cell_type": "code",
   "execution_count": 83,
   "id": "6c3b10bf",
   "metadata": {},
   "outputs": [],
   "source": [
    "# learned about pipelines, one hot encoding, standardization\n",
    "import pandas as pd\n",
    "import matplotlib.pyplot as plt\n",
    "from sklearn.model_selection import train_test_split\n",
    "import numpy as np\n",
    "from sklearn.impute import SimpleImputer\n",
    "from sklearn.preprocessing import OrdinalEncoder\n",
    "from sklearn.preprocessing import OneHotEncoder\n",
    "df = pd.read_csv('./datasets/housing.csv', sep=',')\n",
    "df.head()\n",
    "\n",
    "\n",
    "df['income_cat'] = np.ceil(df['median_income'] / 1.5)\n",
    "df['income_cat'].where( df['income_cat'] < 5.0, 5.0, inplace = True)\n",
    "\n",
    "strat_train, strat_test = train_test_split(df, test_size = 0.2, random_state = 5, stratify = df['income_cat'])\n",
    "\n",
    "strat_train.drop(labels= ['income_cat'], axis = 1, inplace = True)\n",
    "strat_test.drop(labels= ['income_cat'], axis = 1, inplace = True)\n"
   ]
  },
  {
   "cell_type": "code",
   "execution_count": 84,
   "id": "d734ca20",
   "metadata": {},
   "outputs": [],
   "source": [
    "housing = strat_train.drop(labels = ['median_house_value'], axis = 1)\n",
    "housing_label = strat_train['median_house_value'].copy()"
   ]
  },
  {
   "cell_type": "code",
   "execution_count": 85,
   "id": "dd04612a",
   "metadata": {},
   "outputs": [
    {
     "data": {
      "text/plain": [
       "11397    273400.0\n",
       "13036    121900.0\n",
       "6055     310700.0\n",
       "6754     280000.0\n",
       "867      318300.0\n",
       "Name: median_house_value, dtype: float64"
      ]
     },
     "execution_count": 85,
     "metadata": {},
     "output_type": "execute_result"
    }
   ],
   "source": [
    "housing_label.head()"
   ]
  },
  {
   "cell_type": "code",
   "execution_count": 86,
   "id": "9c52fe92",
   "metadata": {},
   "outputs": [],
   "source": [
    "# data cleaning and preprocessing"
   ]
  },
  {
   "cell_type": "code",
   "execution_count": 87,
   "id": "cb10fcc2",
   "metadata": {},
   "outputs": [],
   "source": [
    "# filling the median for the missing values\n",
    "# housing['total_bedrooms'].fillna(housing['total_bedrooms'].median(), inplace = True)\n",
    "\n",
    "imputer = SimpleImputer(strategy = 'median')\n",
    "housing_num = housing.drop(labels= ['ocean_proximity'], axis = 1)\n",
    "housing_num_tr = imputer.fit_transform(housing_num)"
   ]
  },
  {
   "cell_type": "code",
   "execution_count": 88,
   "id": "66e3779c",
   "metadata": {},
   "outputs": [],
   "source": [
    "housing_num_tr = pd.DataFrame(housing_num_tr, columns = housing_num.columns)"
   ]
  },
  {
   "cell_type": "code",
   "execution_count": 91,
   "id": "5dba8ccc",
   "metadata": {},
   "outputs": [
    {
     "data": {
      "text/html": [
       "<div>\n",
       "<style scoped>\n",
       "    .dataframe tbody tr th:only-of-type {\n",
       "        vertical-align: middle;\n",
       "    }\n",
       "\n",
       "    .dataframe tbody tr th {\n",
       "        vertical-align: top;\n",
       "    }\n",
       "\n",
       "    .dataframe thead th {\n",
       "        text-align: right;\n",
       "    }\n",
       "</style>\n",
       "<table border=\"1\" class=\"dataframe\">\n",
       "  <thead>\n",
       "    <tr style=\"text-align: right;\">\n",
       "      <th></th>\n",
       "      <th>ocean_proximity</th>\n",
       "    </tr>\n",
       "  </thead>\n",
       "  <tbody>\n",
       "    <tr>\n",
       "      <th>11397</th>\n",
       "      <td>&lt;1H OCEAN</td>\n",
       "    </tr>\n",
       "    <tr>\n",
       "      <th>13036</th>\n",
       "      <td>INLAND</td>\n",
       "    </tr>\n",
       "    <tr>\n",
       "      <th>6055</th>\n",
       "      <td>&lt;1H OCEAN</td>\n",
       "    </tr>\n",
       "    <tr>\n",
       "      <th>6754</th>\n",
       "      <td>&lt;1H OCEAN</td>\n",
       "    </tr>\n",
       "    <tr>\n",
       "      <th>867</th>\n",
       "      <td>NEAR BAY</td>\n",
       "    </tr>\n",
       "  </tbody>\n",
       "</table>\n",
       "</div>"
      ],
      "text/plain": [
       "      ocean_proximity\n",
       "11397       <1H OCEAN\n",
       "13036          INLAND\n",
       "6055        <1H OCEAN\n",
       "6754        <1H OCEAN\n",
       "867          NEAR BAY"
      ]
     },
     "execution_count": 91,
     "metadata": {},
     "output_type": "execute_result"
    }
   ],
   "source": [
    "housing_cat = housing[['ocean_proximity']]\n",
    "\n",
    "\n",
    "housing_cat.head()"
   ]
  },
  {
   "cell_type": "code",
   "execution_count": 92,
   "id": "3bcfc84a",
   "metadata": {},
   "outputs": [
    {
     "data": {
      "text/plain": [
       "array([[0.],\n",
       "       [1.],\n",
       "       [0.],\n",
       "       [0.],\n",
       "       [3.],\n",
       "       [1.],\n",
       "       [0.],\n",
       "       [0.],\n",
       "       [1.],\n",
       "       [1.]])"
      ]
     },
     "execution_count": 92,
     "metadata": {},
     "output_type": "execute_result"
    }
   ],
   "source": [
    "oe = OrdinalEncoder()\n",
    "housing_cat_encoded = oe.fit_transform(housing_cat)\n",
    "housing_cat_encoded[:10]"
   ]
  },
  {
   "cell_type": "code",
   "execution_count": 93,
   "id": "d2a5dab0",
   "metadata": {},
   "outputs": [],
   "source": [
    "one_hot = OneHotEncoder()"
   ]
  },
  {
   "cell_type": "code",
   "execution_count": 94,
   "id": "8d532291",
   "metadata": {},
   "outputs": [],
   "source": [
    "housing_cat = one_hot.fit_transform(housing_cat)"
   ]
  },
  {
   "cell_type": "code",
   "execution_count": 97,
   "id": "c5140413",
   "metadata": {},
   "outputs": [
    {
     "data": {
      "text/plain": [
       "array([[1., 0., 0., 0., 0.],\n",
       "       [0., 1., 0., 0., 0.],\n",
       "       [1., 0., 0., 0., 0.],\n",
       "       ...,\n",
       "       [1., 0., 0., 0., 0.],\n",
       "       [0., 1., 0., 0., 0.],\n",
       "       [0., 0., 0., 0., 1.]])"
      ]
     },
     "execution_count": 97,
     "metadata": {},
     "output_type": "execute_result"
    }
   ],
   "source": [
    "housing_cat.toarray()"
   ]
  },
  {
   "cell_type": "code",
   "execution_count": 99,
   "id": "5c072c0f",
   "metadata": {},
   "outputs": [],
   "source": [
    "from sklearn.pipeline import Pipeline\n",
    "from sklearn.preprocessing import StandardScaler"
   ]
  },
  {
   "cell_type": "code",
   "execution_count": 100,
   "id": "cbce883a",
   "metadata": {},
   "outputs": [],
   "source": [
    "our_pipeline = Pipeline([('imputer', imputer), ('standardization', StandardScaler(feature))])"
   ]
  },
  {
   "cell_type": "code",
   "execution_count": 101,
   "id": "dd98be3e",
   "metadata": {},
   "outputs": [],
   "source": [
    "housing_num_tr = pd.DataFrame(housing_num_tr, columns = housing_num.columns)"
   ]
  },
  {
   "cell_type": "code",
   "execution_count": 102,
   "id": "3adb2ce1",
   "metadata": {},
   "outputs": [
    {
     "data": {
      "text/html": [
       "<div>\n",
       "<style scoped>\n",
       "    .dataframe tbody tr th:only-of-type {\n",
       "        vertical-align: middle;\n",
       "    }\n",
       "\n",
       "    .dataframe tbody tr th {\n",
       "        vertical-align: top;\n",
       "    }\n",
       "\n",
       "    .dataframe thead th {\n",
       "        text-align: right;\n",
       "    }\n",
       "</style>\n",
       "<table border=\"1\" class=\"dataframe\">\n",
       "  <thead>\n",
       "    <tr style=\"text-align: right;\">\n",
       "      <th></th>\n",
       "      <th>longitude</th>\n",
       "      <th>latitude</th>\n",
       "      <th>housing_median_age</th>\n",
       "      <th>total_rooms</th>\n",
       "      <th>total_bedrooms</th>\n",
       "      <th>population</th>\n",
       "      <th>households</th>\n",
       "      <th>median_income</th>\n",
       "    </tr>\n",
       "  </thead>\n",
       "  <tbody>\n",
       "    <tr>\n",
       "      <th>0</th>\n",
       "      <td>-117.97</td>\n",
       "      <td>33.72</td>\n",
       "      <td>24.0</td>\n",
       "      <td>2991.0</td>\n",
       "      <td>500.0</td>\n",
       "      <td>1437.0</td>\n",
       "      <td>453.0</td>\n",
       "      <td>5.4286</td>\n",
       "    </tr>\n",
       "    <tr>\n",
       "      <th>1</th>\n",
       "      <td>-121.17</td>\n",
       "      <td>38.68</td>\n",
       "      <td>37.0</td>\n",
       "      <td>1252.0</td>\n",
       "      <td>267.0</td>\n",
       "      <td>686.0</td>\n",
       "      <td>256.0</td>\n",
       "      <td>3.0000</td>\n",
       "    </tr>\n",
       "    <tr>\n",
       "      <th>2</th>\n",
       "      <td>-117.86</td>\n",
       "      <td>33.99</td>\n",
       "      <td>10.0</td>\n",
       "      <td>17820.0</td>\n",
       "      <td>2812.0</td>\n",
       "      <td>8686.0</td>\n",
       "      <td>2666.0</td>\n",
       "      <td>6.3875</td>\n",
       "    </tr>\n",
       "    <tr>\n",
       "      <th>3</th>\n",
       "      <td>-118.10</td>\n",
       "      <td>34.10</td>\n",
       "      <td>52.0</td>\n",
       "      <td>1788.0</td>\n",
       "      <td>313.0</td>\n",
       "      <td>792.0</td>\n",
       "      <td>294.0</td>\n",
       "      <td>3.7500</td>\n",
       "    </tr>\n",
       "    <tr>\n",
       "      <th>4</th>\n",
       "      <td>-122.07</td>\n",
       "      <td>37.57</td>\n",
       "      <td>8.0</td>\n",
       "      <td>8647.0</td>\n",
       "      <td>1407.0</td>\n",
       "      <td>5019.0</td>\n",
       "      <td>1379.0</td>\n",
       "      <td>6.5615</td>\n",
       "    </tr>\n",
       "  </tbody>\n",
       "</table>\n",
       "</div>"
      ],
      "text/plain": [
       "   longitude  latitude  housing_median_age  total_rooms  total_bedrooms  \\\n",
       "0    -117.97     33.72                24.0       2991.0           500.0   \n",
       "1    -121.17     38.68                37.0       1252.0           267.0   \n",
       "2    -117.86     33.99                10.0      17820.0          2812.0   \n",
       "3    -118.10     34.10                52.0       1788.0           313.0   \n",
       "4    -122.07     37.57                 8.0       8647.0          1407.0   \n",
       "\n",
       "   population  households  median_income  \n",
       "0      1437.0       453.0         5.4286  \n",
       "1       686.0       256.0         3.0000  \n",
       "2      8686.0      2666.0         6.3875  \n",
       "3       792.0       294.0         3.7500  \n",
       "4      5019.0      1379.0         6.5615  "
      ]
     },
     "execution_count": 102,
     "metadata": {},
     "output_type": "execute_result"
    }
   ],
   "source": [
    "housing_num_tr.head()"
   ]
  },
  {
   "cell_type": "code",
   "execution_count": 103,
   "id": "2a839cbf",
   "metadata": {},
   "outputs": [
    {
     "data": {
      "text/plain": [
       "numpy.ndarray"
      ]
     },
     "execution_count": 103,
     "metadata": {},
     "output_type": "execute_result"
    }
   ],
   "source": [
    "p  = our_pipeline.fit_transform(housing_num_tr)\n",
    "type(p)"
   ]
  },
  {
   "cell_type": "code",
   "execution_count": 104,
   "id": "a090507d",
   "metadata": {},
   "outputs": [
    {
     "data": {
      "text/plain": [
       "array([[ 0.79913265, -0.89463125, -0.36660224, ...,  0.01092415,\n",
       "        -0.11833661,  0.81248212],\n",
       "       [-0.79794901,  1.42510216,  0.66239208, ..., -0.64252718,\n",
       "        -0.63470484, -0.45736025],\n",
       "       [ 0.85403233, -0.76835544, -1.47474996, ...,  6.31833917,\n",
       "         5.68228719,  1.31386228],\n",
       "       ...,\n",
       "       [ 0.85403233, -0.75900167, -0.99982951, ...,  1.40396753,\n",
       "         0.59986083,  0.6805097 ],\n",
       "       [ 0.30503551, -0.10423821,  0.02916481, ...,  0.10228552,\n",
       "         0.42162205, -0.48507237],\n",
       "       [-1.37190023,  0.89193762,  0.42493185, ...,  0.15971267,\n",
       "         0.41375857,  0.62885013]])"
      ]
     },
     "execution_count": 104,
     "metadata": {},
     "output_type": "execute_result"
    }
   ],
   "source": [
    "p"
   ]
  },
  {
   "cell_type": "code",
   "execution_count": 105,
   "id": "3767d4d2",
   "metadata": {},
   "outputs": [],
   "source": [
    "from sklearn.compose import ColumnTransformer"
   ]
  },
  {
   "cell_type": "code",
   "execution_count": 112,
   "id": "738e0d66",
   "metadata": {},
   "outputs": [],
   "source": [
    "num_attribs = list(housing_num.columns)\n",
    "cat_attribs = ['ocean_proximity']\n"
   ]
  },
  {
   "cell_type": "code",
   "execution_count": 113,
   "id": "691ae7bb",
   "metadata": {},
   "outputs": [],
   "source": [
    "full_pipeline = ColumnTransformer([('num', our_pipeline, num_attribs), ('cat', OneHotEncoder(), cat_attribs)])"
   ]
  },
  {
   "cell_type": "code",
   "execution_count": 116,
   "id": "03c2640d",
   "metadata": {},
   "outputs": [
    {
     "data": {
      "text/plain": [
       "(16512, 13)"
      ]
     },
     "execution_count": 116,
     "metadata": {},
     "output_type": "execute_result"
    }
   ],
   "source": [
    "train = full_pipeline.fit_transform(housing)\n",
    "train.shape"
   ]
  },
  {
   "cell_type": "code",
   "execution_count": 117,
   "id": "52131d42",
   "metadata": {},
   "outputs": [
    {
     "name": "stdout",
     "output_type": "stream",
     "text": [
      "(16512, 9)\n"
     ]
    }
   ],
   "source": [
    "print(housing.shape)"
   ]
  },
  {
   "cell_type": "code",
   "execution_count": null,
   "id": "f1021c0f",
   "metadata": {},
   "outputs": [],
   "source": []
  }
 ],
 "metadata": {
  "kernelspec": {
   "display_name": "Python 3 (ipykernel)",
   "language": "python",
   "name": "python3"
  },
  "language_info": {
   "codemirror_mode": {
    "name": "ipython",
    "version": 3
   },
   "file_extension": ".py",
   "mimetype": "text/x-python",
   "name": "python",
   "nbconvert_exporter": "python",
   "pygments_lexer": "ipython3",
   "version": "3.8.1"
  }
 },
 "nbformat": 4,
 "nbformat_minor": 5
}
