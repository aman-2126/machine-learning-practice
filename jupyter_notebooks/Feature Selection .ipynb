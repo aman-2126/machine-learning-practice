{
 "cells": [
  {
   "cell_type": "code",
   "execution_count": 22,
   "id": "91c77492",
   "metadata": {},
   "outputs": [],
   "source": [
    "from sklearn.feature_selection import chi2\n",
    "from sklearn.feature_selection import SelectKBest\n",
    "from sklearn.decomposition import PCA\n",
    "import pandas as pd\n",
    "import numpy"
   ]
  },
  {
   "cell_type": "code",
   "execution_count": 9,
   "id": "9e3ce468",
   "metadata": {},
   "outputs": [
    {
     "name": "stdout",
     "output_type": "stream",
     "text": [
      "   preg  plas  pres  skin  test  mass   pedi  age  class\n",
      "0     6   148    72    35     0  33.6  0.627   50      1\n",
      "1     1    85    66    29     0  26.6  0.351   31      0\n",
      "2     8   183    64     0     0  23.3  0.672   32      1\n",
      "3     1    89    66    23    94  28.1  0.167   21      0\n",
      "4     0   137    40    35   168  43.1  2.288   33      1\n"
     ]
    }
   ],
   "source": [
    "filename = 'diabetes.csv'\n",
    "names =['preg', 'plas', 'pres', 'skin', 'test', 'mass', 'pedi', 'age', 'class']\n",
    "dataset_dataframe = pd.read_csv(filename, names = names)\n",
    "print(dataset_dataframe.head(5))"
   ]
  },
  {
   "cell_type": "code",
   "execution_count": 15,
   "id": "2770f7c7",
   "metadata": {},
   "outputs": [],
   "source": [
    "dataset_array = dataset_dataframe.to_numpy()\n",
    "x = dataset_array[:, 0:8]\n",
    "y = dataset_array[:, 8]\n",
    "\n"
   ]
  },
  {
   "cell_type": "code",
   "execution_count": 19,
   "id": "ff835556",
   "metadata": {},
   "outputs": [
    {
     "name": "stdout",
     "output_type": "stream",
     "text": [
      "[[148.    0.   33.6  50. ]\n",
      " [ 85.    0.   26.6  31. ]\n",
      " [183.    0.   23.3  32. ]\n",
      " ...\n",
      " [121.  112.   26.2  30. ]\n",
      " [126.    0.   30.1  47. ]\n",
      " [ 93.    0.   30.4  23. ]]\n"
     ]
    }
   ],
   "source": [
    "test = SelectKBest(score_func = chi2, k = 4)\n",
    "fit = test.fit(x, y)\n",
    "selected_features = test.transform(x) \n",
    "print(selected_features)\n"
   ]
  },
  {
   "cell_type": "code",
   "execution_count": 36,
   "id": "37bcbdea",
   "metadata": {},
   "outputs": [
    {
     "name": "stdout",
     "output_type": "stream",
     "text": [
      "[[-75.71465491 -35.95078264  -7.26078895]\n",
      " [-82.3582676   28.90821322  -5.49667139]\n",
      " [-74.63064344 -67.90649647  19.46180812]\n",
      " ...\n",
      " [ 32.11319827   3.3766648   -1.58786446]\n",
      " [-80.21449431 -14.18601977  12.3512639 ]\n",
      " [-81.30814972  21.62149606  -8.15276833]]\n"
     ]
    }
   ],
   "source": [
    "pca = PCA(n_components=3)\n",
    "pca_components = pca.fit_transform(x)\n",
    "print(pca_components)"
   ]
  },
  {
   "cell_type": "code",
   "execution_count": null,
   "id": "22d5e093",
   "metadata": {},
   "outputs": [],
   "source": []
  }
 ],
 "metadata": {
  "kernelspec": {
   "display_name": "Python 3 (ipykernel)",
   "language": "python",
   "name": "python3"
  },
  "language_info": {
   "codemirror_mode": {
    "name": "ipython",
    "version": 3
   },
   "file_extension": ".py",
   "mimetype": "text/x-python",
   "name": "python",
   "nbconvert_exporter": "python",
   "pygments_lexer": "ipython3",
   "version": "3.8.1"
  }
 },
 "nbformat": 4,
 "nbformat_minor": 5
}
