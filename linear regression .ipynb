{
 "cells": [
  {
   "cell_type": "code",
   "execution_count": 63,
   "id": "6ecc97ee",
   "metadata": {},
   "outputs": [],
   "source": [
    "import matplotlib.pyplot as plt\n",
    "import numpy as np\n",
    "import pandas as pd\n",
    "from sklearn import datasets, linear_model\n",
    "from sklearn.metrics import mean_squared_error"
   ]
  },
  {
   "cell_type": "code",
   "execution_count": 18,
   "id": "e98ccd51",
   "metadata": {},
   "outputs": [],
   "source": [
    "diabetes = datasets.load_diabetes()"
   ]
  },
  {
   "cell_type": "code",
   "execution_count": 19,
   "id": "7377d7a6",
   "metadata": {},
   "outputs": [
    {
     "data": {
      "text/plain": [
       "sklearn.utils.Bunch"
      ]
     },
     "execution_count": 19,
     "metadata": {},
     "output_type": "execute_result"
    }
   ],
   "source": [
    "type(diabetes)"
   ]
  },
  {
   "cell_type": "code",
   "execution_count": 21,
   "id": "bd2b074e",
   "metadata": {},
   "outputs": [
    {
     "data": {
      "text/plain": [
       "dict_keys(['data', 'target', 'frame', 'DESCR', 'feature_names', 'data_filename', 'target_filename'])"
      ]
     },
     "execution_count": 21,
     "metadata": {},
     "output_type": "execute_result"
    }
   ],
   "source": [
    "diabetes.keys()"
   ]
  },
  {
   "cell_type": "code",
   "execution_count": 31,
   "id": "ebace065",
   "metadata": {},
   "outputs": [
    {
     "data": {
      "text/plain": [
       "array([[ 0.03807591,  0.05068012,  0.06169621, ..., -0.00259226,\n",
       "         0.01990842, -0.01764613],\n",
       "       [-0.00188202, -0.04464164, -0.05147406, ..., -0.03949338,\n",
       "        -0.06832974, -0.09220405],\n",
       "       [ 0.08529891,  0.05068012,  0.04445121, ..., -0.00259226,\n",
       "         0.00286377, -0.02593034],\n",
       "       ...,\n",
       "       [ 0.04170844,  0.05068012, -0.01590626, ..., -0.01107952,\n",
       "        -0.04687948,  0.01549073],\n",
       "       [-0.04547248, -0.04464164,  0.03906215, ...,  0.02655962,\n",
       "         0.04452837, -0.02593034],\n",
       "       [-0.04547248, -0.04464164, -0.0730303 , ..., -0.03949338,\n",
       "        -0.00421986,  0.00306441]])"
      ]
     },
     "execution_count": 31,
     "metadata": {},
     "output_type": "execute_result"
    }
   ],
   "source": [
    "diabetes.data"
   ]
  },
  {
   "cell_type": "code",
   "execution_count": 103,
   "id": "a219bf7b",
   "metadata": {
    "scrolled": true
   },
   "outputs": [
    {
     "name": "stdout",
     "output_type": "stream",
     "text": [
      "(442, 10)\n"
     ]
    }
   ],
   "source": [
    "#diabetes_data = diabetes.data[:,np.newaxis, 2]\n",
    "diabetes_data = diabetes.data\n",
    "print(diabetes_data.shape)\n",
    "diabetes_train_x = diabetes_data[:400]\n",
    "diabetes_test_x = diabetes_data[401:]\n",
    "diabetes_train_y = diabetes.target[:400]\n",
    "diabetes_test_y = diabetes.target[401:]\n",
    "#print(diabetes_train_y)\n",
    "# print(diabetes_train_x)\n",
    "# print(diabetes_test_x)\n"
   ]
  },
  {
   "cell_type": "code",
   "execution_count": 104,
   "id": "34606782",
   "metadata": {},
   "outputs": [
    {
     "data": {
      "text/plain": [
       "sklearn.linear_model._base.LinearRegression"
      ]
     },
     "execution_count": 104,
     "metadata": {},
     "output_type": "execute_result"
    }
   ],
   "source": [
    "model = linear_model.LinearRegression()\n",
    "type(model)"
   ]
  },
  {
   "cell_type": "code",
   "execution_count": 105,
   "id": "a57c6905",
   "metadata": {},
   "outputs": [
    {
     "data": {
      "text/plain": [
       "LinearRegression()"
      ]
     },
     "execution_count": 105,
     "metadata": {},
     "output_type": "execute_result"
    }
   ],
   "source": [
    "model.fit(diabetes_train_x, diabetes_train_y)"
   ]
  },
  {
   "cell_type": "code",
   "execution_count": 106,
   "id": "31704c29",
   "metadata": {},
   "outputs": [],
   "source": [
    "predicted_values = model.predict(diabetes_test_x)"
   ]
  },
  {
   "cell_type": "code",
   "execution_count": 107,
   "id": "a3db2c18",
   "metadata": {},
   "outputs": [
    {
     "name": "stdout",
     "output_type": "stream",
     "text": [
      "[ 90.33884916 152.32545293 250.86678323 198.45869844 281.11782037\n",
      "  50.82891661 176.8768519  202.22818344 172.41704784 155.89857\n",
      " 152.41403254 234.6586589  123.00017838 166.31986886 174.69177418\n",
      " 226.36432904 152.4920951  101.24206908  83.71261404 143.75565462\n",
      " 192.27187655 196.20957111 153.39127768 172.98189004 111.70862733\n",
      " 164.01793539 131.68173038 258.74174951 100.82796839 117.71197104\n",
      " 123.38543133 219.97763193  62.54963497 133.39001896 121.15039064\n",
      "  53.36114923 191.97459197 105.28021173 123.7801411  210.10719692\n",
      "  54.50316986]\n"
     ]
    }
   ],
   "source": [
    "print(predicted_values)"
   ]
  },
  {
   "cell_type": "code",
   "execution_count": 108,
   "id": "7e33c0ff",
   "metadata": {},
   "outputs": [
    {
     "name": "stdout",
     "output_type": "stream",
     "text": [
      "[ 93. 168. 275. 293. 281.  72. 140. 189. 181. 209. 136. 261. 113. 131.\n",
      " 174. 257.  55.  84.  42. 146. 212. 233.  91. 111. 152. 120.  67. 310.\n",
      "  94. 183.  66. 173.  72.  49.  64.  48. 178. 104. 132. 220.  57.]\n"
     ]
    }
   ],
   "source": [
    "print(diabetes_test_y)"
   ]
  },
  {
   "cell_type": "code",
   "execution_count": 109,
   "id": "3da818d1",
   "metadata": {},
   "outputs": [
    {
     "name": "stdout",
     "output_type": "stream",
     "text": [
      "[   5.02597344 -238.41461528  521.63399624  299.94110951 -752.12376074\n",
      "  445.15341214   83.51201877  185.57718337  706.4729074    88.68448421]\n"
     ]
    }
   ],
   "source": [
    "print(model.coef_)"
   ]
  },
  {
   "cell_type": "code",
   "execution_count": 110,
   "id": "e6358a31",
   "metadata": {},
   "outputs": [
    {
     "name": "stdout",
     "output_type": "stream",
     "text": [
      "152.72942545098695\n"
     ]
    }
   ],
   "source": [
    "print(model.intercept_)"
   ]
  },
  {
   "cell_type": "code",
   "execution_count": 111,
   "id": "810f571f",
   "metadata": {},
   "outputs": [
    {
     "name": "stdout",
     "output_type": "stream",
     "text": [
      "1706.816159897502\n"
     ]
    }
   ],
   "source": [
    "error = mean_squared_error(diabetes_test_y, predicted_values)\n",
    "print(error)"
   ]
  },
  {
   "cell_type": "code",
   "execution_count": 83,
   "id": "ba326236",
   "metadata": {},
   "outputs": [],
   "source": [
    "# plt.scatter(diabetes_test_x, diabetes_test_y)\n",
    "# plt.plot(diabetes_test_x, predicted_values)\n",
    "# plt.show()"
   ]
  },
  {
   "cell_type": "code",
   "execution_count": null,
   "id": "814ad9d3",
   "metadata": {},
   "outputs": [],
   "source": []
  }
 ],
 "metadata": {
  "kernelspec": {
   "display_name": "Python 3 (ipykernel)",
   "language": "python",
   "name": "python3"
  },
  "language_info": {
   "codemirror_mode": {
    "name": "ipython",
    "version": 3
   },
   "file_extension": ".py",
   "mimetype": "text/x-python",
   "name": "python",
   "nbconvert_exporter": "python",
   "pygments_lexer": "ipython3",
   "version": "3.9.7"
  }
 },
 "nbformat": 4,
 "nbformat_minor": 5
}
