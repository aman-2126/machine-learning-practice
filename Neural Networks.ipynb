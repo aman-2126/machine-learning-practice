{
 "cells": [
  {
   "cell_type": "code",
   "execution_count": 2,
   "id": "89a713cc",
   "metadata": {},
   "outputs": [],
   "source": [
    "import tensorflow as tf\n",
    "from tensorflow import keras"
   ]
  },
  {
   "cell_type": "code",
   "execution_count": 4,
   "id": "8b11a5f0",
   "metadata": {},
   "outputs": [
    {
     "data": {
      "text/plain": [
       "'2.8.0'"
      ]
     },
     "execution_count": 4,
     "metadata": {},
     "output_type": "execute_result"
    }
   ],
   "source": [
    "keras.__version__"
   ]
  },
  {
   "cell_type": "code",
   "execution_count": 6,
   "id": "2c0ea66c",
   "metadata": {},
   "outputs": [
    {
     "name": "stdout",
     "output_type": "stream",
     "text": [
      "Downloading data from https://storage.googleapis.com/tensorflow/tf-keras-datasets/train-labels-idx1-ubyte.gz\n",
      "32768/29515 [=================================] - 0s 1us/step\n",
      "40960/29515 [=========================================] - 0s 1us/step\n",
      "Downloading data from https://storage.googleapis.com/tensorflow/tf-keras-datasets/train-images-idx3-ubyte.gz\n",
      "26427392/26421880 [==============================] - 2s 0us/step\n",
      "26435584/26421880 [==============================] - 2s 0us/step\n",
      "Downloading data from https://storage.googleapis.com/tensorflow/tf-keras-datasets/t10k-labels-idx1-ubyte.gz\n",
      "16384/5148 [===============================================================================================] - 0s 0s/step\n",
      "Downloading data from https://storage.googleapis.com/tensorflow/tf-keras-datasets/t10k-images-idx3-ubyte.gz\n",
      "4423680/4422102 [==============================] - 0s 0us/step\n",
      "4431872/4422102 [==============================] - 0s 0us/step\n"
     ]
    }
   ],
   "source": [
    "fashion_mnist = keras.datasets.fashion_mnist\n",
    "(X_train_full, y_train_full), (X_test, y_test) = fashion_mnist.load_data()"
   ]
  },
  {
   "cell_type": "code",
   "execution_count": 7,
   "id": "14dc9703",
   "metadata": {},
   "outputs": [
    {
     "data": {
      "text/plain": [
       "(60000, 28, 28)"
      ]
     },
     "execution_count": 7,
     "metadata": {},
     "output_type": "execute_result"
    }
   ],
   "source": [
    "X_train_full.shape"
   ]
  },
  {
   "cell_type": "code",
   "execution_count": 8,
   "id": "4b8ddd88",
   "metadata": {},
   "outputs": [],
   "source": [
    "import matplotlib.pyplot as plt"
   ]
  },
  {
   "cell_type": "code",
   "execution_count": 15,
   "id": "a1483454",
   "metadata": {},
   "outputs": [
    {
     "data": {
      "text/plain": [
       "Text(0.5, 0, '9')"
      ]
     },
     "execution_count": 15,
     "metadata": {},
     "output_type": "execute_result"
    },
    {
     "data": {
      "image/png": "[encoded data removed]",
      "text/plain": [
       "<Figure size 432x288 with 1 Axes>"
      ]
     },
     "metadata": {
      "needs_background": "light"
     },
     "output_type": "display_data"
    }
   ],
   "source": [
    "plt.imshow(X_train_full[0], cmap = 'binary')\n",
    "plt.xlabel(y_train_full[0])"
   ]
  },
  {
   "cell_type": "code",
   "execution_count": 22,
   "id": "24d081af",
   "metadata": {},
   "outputs": [],
   "source": [
    "x_valid, x_train = X_train_full[:5000]/255.0, X_train_full[5000:]/255.0\n",
    "y_valid, y_train = y_train_full[:5000], y_train_full[5000:]\n"
   ]
  },
  {
   "cell_type": "code",
   "execution_count": 25,
   "id": "4f619651",
   "metadata": {},
   "outputs": [],
   "source": [
    "layers_list = [keras.layers.Flatten(input_shape=[28,28]), \n",
    "               keras.layers.Dense(300, activation='relu'),\n",
    "               keras.layers.Dense(200, activation='relu'),\n",
    "               keras.layers.Dense(10, activation='softmax')]\n",
    "model= keras.models.Sequential(layers_list)"
   ]
  },
  {
   "cell_type": "code",
   "execution_count": 26,
   "id": "92ab48d1",
   "metadata": {},
   "outputs": [
    {
     "name": "stdout",
     "output_type": "stream",
     "text": [
      "Model: \"sequential_1\"\n",
      "_________________________________________________________________\n",
      " Layer (type)                Output Shape              Param #   \n",
      "=================================================================\n",
      " flatten (Flatten)           (None, 784)               0         \n",
      "                                                                 \n",
      " dense (Dense)               (None, 300)               235500    \n",
      "                                                                 \n",
      " dense_1 (Dense)             (None, 200)               60200     \n",
      "                                                                 \n",
      " dense_2 (Dense)             (None, 10)                2010      \n",
      "                                                                 \n",
      "=================================================================\n",
      "Total params: 297,710\n",
      "Trainable params: 297,710\n",
      "Non-trainable params: 0\n",
      "_________________________________________________________________\n"
     ]
    }
   ],
   "source": [
    "model.summary()"
   ]
  },
  {
   "cell_type": "code",
   "execution_count": 27,
   "id": "6de3ad84",
   "metadata": {},
   "outputs": [],
   "source": [
    "weights,biases = model.layers[1].get_weights()"
   ]
  },
  {
   "cell_type": "code",
   "execution_count": 30,
   "id": "7d3fa977",
   "metadata": {},
   "outputs": [
    {
     "data": {
      "text/plain": [
       "(300,)"
      ]
     },
     "execution_count": 30,
     "metadata": {},
     "output_type": "execute_result"
    }
   ],
   "source": [
    "biases.shape"
   ]
  },
  {
   "cell_type": "code",
   "execution_count": 31,
   "id": "b69f924e",
   "metadata": {},
   "outputs": [],
   "source": [
    "model.compile(loss=\"sparse_categorical_crossentropy\",\n",
    "optimizer=\"sgd\",\n",
    "metrics=[\"accuracy\"])"
   ]
  },
  {
   "cell_type": "code",
   "execution_count": 32,
   "id": "deb99988",
   "metadata": {},
   "outputs": [
    {
     "name": "stdout",
     "output_type": "stream",
     "text": [
      "Epoch 1/40\n",
      "1719/1719 [==============================] - 6s 2ms/step - loss: 0.7090 - accuracy: 0.7679 - val_loss: 0.5062 - val_accuracy: 0.8292\n",
      "Epoch 2/40\n",
      "1719/1719 [==============================] - 4s 2ms/step - loss: 0.4868 - accuracy: 0.8314 - val_loss: 0.4623 - val_accuracy: 0.8396\n",
      "Epoch 3/40\n",
      "1719/1719 [==============================] - 4s 2ms/step - loss: 0.4431 - accuracy: 0.8455 - val_loss: 0.4350 - val_accuracy: 0.8476\n",
      "Epoch 4/40\n",
      "1719/1719 [==============================] - 4s 2ms/step - loss: 0.4142 - accuracy: 0.8551 - val_loss: 0.3936 - val_accuracy: 0.8670\n",
      "Epoch 5/40\n",
      "1719/1719 [==============================] - 4s 3ms/step - loss: 0.3943 - accuracy: 0.8621 - val_loss: 0.4000 - val_accuracy: 0.8618\n",
      "Epoch 6/40\n",
      "1719/1719 [==============================] - 5s 3ms/step - loss: 0.3781 - accuracy: 0.8651 - val_loss: 0.3731 - val_accuracy: 0.8676\n",
      "Epoch 7/40\n",
      "1719/1719 [==============================] - 4s 3ms/step - loss: 0.3633 - accuracy: 0.8722 - val_loss: 0.3636 - val_accuracy: 0.8740\n",
      "Epoch 8/40\n",
      "1719/1719 [==============================] - 5s 3ms/step - loss: 0.3510 - accuracy: 0.8760 - val_loss: 0.3421 - val_accuracy: 0.8786\n",
      "Epoch 9/40\n",
      "1719/1719 [==============================] - 5s 3ms/step - loss: 0.3401 - accuracy: 0.8792 - val_loss: 0.3491 - val_accuracy: 0.8760\n",
      "Epoch 10/40\n",
      "1719/1719 [==============================] - 5s 3ms/step - loss: 0.3323 - accuracy: 0.8814 - val_loss: 0.3374 - val_accuracy: 0.8830\n",
      "Epoch 11/40\n",
      "1719/1719 [==============================] - 6s 3ms/step - loss: 0.3232 - accuracy: 0.8839 - val_loss: 0.3293 - val_accuracy: 0.8840\n",
      "Epoch 12/40\n",
      "1719/1719 [==============================] - 5s 3ms/step - loss: 0.3150 - accuracy: 0.8871 - val_loss: 0.3243 - val_accuracy: 0.8842\n",
      "Epoch 13/40\n",
      "1719/1719 [==============================] - 5s 3ms/step - loss: 0.3073 - accuracy: 0.8898 - val_loss: 0.3327 - val_accuracy: 0.8814\n",
      "Epoch 14/40\n",
      "1719/1719 [==============================] - 5s 3ms/step - loss: 0.3006 - accuracy: 0.8922 - val_loss: 0.3322 - val_accuracy: 0.8814\n",
      "Epoch 15/40\n",
      "1719/1719 [==============================] - 5s 3ms/step - loss: 0.2944 - accuracy: 0.8936 - val_loss: 0.3165 - val_accuracy: 0.8876\n",
      "Epoch 16/40\n",
      "1719/1719 [==============================] - 5s 3ms/step - loss: 0.2881 - accuracy: 0.8969 - val_loss: 0.3387 - val_accuracy: 0.8788\n",
      "Epoch 17/40\n",
      "1719/1719 [==============================] - 5s 3ms/step - loss: 0.2833 - accuracy: 0.8978 - val_loss: 0.3087 - val_accuracy: 0.8904\n",
      "Epoch 18/40\n",
      "1719/1719 [==============================] - 5s 3ms/step - loss: 0.2770 - accuracy: 0.9000 - val_loss: 0.3249 - val_accuracy: 0.8838\n",
      "Epoch 19/40\n",
      "1719/1719 [==============================] - 5s 3ms/step - loss: 0.2716 - accuracy: 0.9023 - val_loss: 0.3126 - val_accuracy: 0.8902\n",
      "Epoch 20/40\n",
      "1719/1719 [==============================] - 5s 3ms/step - loss: 0.2671 - accuracy: 0.9032 - val_loss: 0.3022 - val_accuracy: 0.8924\n",
      "Epoch 21/40\n",
      "1719/1719 [==============================] - 5s 3ms/step - loss: 0.2612 - accuracy: 0.9054 - val_loss: 0.3048 - val_accuracy: 0.8914\n",
      "Epoch 22/40\n",
      "1719/1719 [==============================] - 5s 3ms/step - loss: 0.2574 - accuracy: 0.9069 - val_loss: 0.3061 - val_accuracy: 0.8892\n",
      "Epoch 23/40\n",
      "1719/1719 [==============================] - 5s 3ms/step - loss: 0.2532 - accuracy: 0.9089 - val_loss: 0.3452 - val_accuracy: 0.8770\n",
      "Epoch 24/40\n",
      "1719/1719 [==============================] - 6s 3ms/step - loss: 0.2484 - accuracy: 0.9110 - val_loss: 0.3300 - val_accuracy: 0.8774\n",
      "Epoch 25/40\n",
      "1719/1719 [==============================] - 5s 3ms/step - loss: 0.2439 - accuracy: 0.9118 - val_loss: 0.3030 - val_accuracy: 0.8892\n",
      "Epoch 26/40\n",
      "1719/1719 [==============================] - 5s 3ms/step - loss: 0.2396 - accuracy: 0.9135 - val_loss: 0.3039 - val_accuracy: 0.8926\n",
      "Epoch 27/40\n",
      "1719/1719 [==============================] - 6s 3ms/step - loss: 0.2357 - accuracy: 0.9145 - val_loss: 0.3147 - val_accuracy: 0.8844\n",
      "Epoch 28/40\n",
      "1719/1719 [==============================] - 5s 3ms/step - loss: 0.2325 - accuracy: 0.9161 - val_loss: 0.3047 - val_accuracy: 0.8884\n",
      "Epoch 29/40\n",
      "1719/1719 [==============================] - 6s 3ms/step - loss: 0.2278 - accuracy: 0.9179 - val_loss: 0.2961 - val_accuracy: 0.8918\n",
      "Epoch 30/40\n",
      "1719/1719 [==============================] - 5s 3ms/step - loss: 0.2245 - accuracy: 0.9194 - val_loss: 0.2942 - val_accuracy: 0.8932\n",
      "Epoch 31/40\n",
      "1719/1719 [==============================] - 5s 3ms/step - loss: 0.2211 - accuracy: 0.9205 - val_loss: 0.2922 - val_accuracy: 0.8960\n",
      "Epoch 32/40\n",
      "1719/1719 [==============================] - 6s 3ms/step - loss: 0.2169 - accuracy: 0.9221 - val_loss: 0.3140 - val_accuracy: 0.8848\n",
      "Epoch 33/40\n",
      "1719/1719 [==============================] - 9s 5ms/step - loss: 0.2135 - accuracy: 0.9238 - val_loss: 0.3125 - val_accuracy: 0.8908\n",
      "Epoch 34/40\n",
      "1719/1719 [==============================] - 9s 5ms/step - loss: 0.2107 - accuracy: 0.9239 - val_loss: 0.2979 - val_accuracy: 0.8926\n",
      "Epoch 35/40\n",
      "1719/1719 [==============================] - 9s 5ms/step - loss: 0.2074 - accuracy: 0.9251 - val_loss: 0.2968 - val_accuracy: 0.8934\n",
      "Epoch 36/40\n",
      "1719/1719 [==============================] - 9s 6ms/step - loss: 0.2031 - accuracy: 0.9277 - val_loss: 0.2948 - val_accuracy: 0.8934\n",
      "Epoch 37/40\n",
      "1719/1719 [==============================] - 9s 5ms/step - loss: 0.2001 - accuracy: 0.9287 - val_loss: 0.3018 - val_accuracy: 0.8900\n",
      "Epoch 38/40\n",
      "1719/1719 [==============================] - 9s 5ms/step - loss: 0.1970 - accuracy: 0.9298 - val_loss: 0.2938 - val_accuracy: 0.8944\n",
      "Epoch 39/40\n",
      "1719/1719 [==============================] - 9s 5ms/step - loss: 0.1934 - accuracy: 0.9308 - val_loss: 0.3195 - val_accuracy: 0.8858\n",
      "Epoch 40/40\n",
      "1719/1719 [==============================] - 9s 5ms/step - loss: 0.1902 - accuracy: 0.9327 - val_loss: 0.3154 - val_accuracy: 0.8860\n"
     ]
    }
   ],
   "source": [
    "history = model.fit(x_train, y_train, epochs=40,validation_data=(x_valid, y_valid))"
   ]
  },
  {
   "cell_type": "code",
   "execution_count": 35,
   "id": "fa3a9277",
   "metadata": {},
   "outputs": [
    {
     "data": {
      "text/plain": [
       "(55000, 28, 28)"
      ]
     },
     "execution_count": 35,
     "metadata": {},
     "output_type": "execute_result"
    }
   ],
   "source": [
    "# pd.DataFrame(history.history).plot(figsize=(8, 5))\n",
    "# plt.grid(True)\n",
    "# plt.gca().set_ylim(0, 1) # set the vertical range to [0-1]\n",
    "# plt.show()\n",
    "\n",
    "x_train.shape"
   ]
  },
  {
   "cell_type": "code",
   "execution_count": 37,
   "id": "ba4aa068",
   "metadata": {},
   "outputs": [
    {
     "data": {
      "image/png": "[encoded data removed]",
      "text/plain": [
       "<Figure size 576x360 with 1 Axes>"
      ]
     },
     "metadata": {
      "needs_background": "light"
     },
     "output_type": "display_data"
    }
   ],
   "source": [
    "import pandas as pd\n",
    "\n",
    "pd.DataFrame(history.history).plot(figsize=(8, 5))\n",
    "plt.grid(True)\n",
    "plt.gca().set_ylim(0, 1) # set the vertical range to [0-1]\n",
    "plt.show()\n"
   ]
  },
  {
   "cell_type": "code",
   "execution_count": 39,
   "id": "3d4a62b0",
   "metadata": {},
   "outputs": [
    {
     "name": "stdout",
     "output_type": "stream",
     "text": [
      "313/313 [==============================] - 1s 2ms/step - loss: 75.9314 - accuracy: 0.8408\n"
     ]
    },
    {
     "data": {
      "text/plain": [
       "[75.93143463134766, 0.8407999873161316]"
      ]
     },
     "execution_count": 39,
     "metadata": {},
     "output_type": "execute_result"
    }
   ],
   "source": [
    "model.evaluate(X_test, y_test)"
   ]
  },
  {
   "cell_type": "code",
   "execution_count": 46,
   "id": "4693b94c",
   "metadata": {},
   "outputs": [],
   "source": [
    "x_new = X_test[:3]\n",
    "y_new = model.predict(x_new)"
   ]
  },
  {
   "cell_type": "code",
   "execution_count": 42,
   "id": "112989a7",
   "metadata": {},
   "outputs": [
    {
     "data": {
      "text/plain": [
       "array([[0., 0., 0., 0., 0., 0., 0., 0., 0., 1.],\n",
       "       [0., 0., 1., 0., 0., 0., 0., 0., 0., 0.],\n",
       "       [0., 1., 0., 0., 0., 0., 0., 0., 0., 0.]], dtype=float32)"
      ]
     },
     "execution_count": 42,
     "metadata": {},
     "output_type": "execute_result"
    }
   ],
   "source": []
  },
  {
   "cell_type": "code",
   "execution_count": 43,
   "id": "40bf92cc",
   "metadata": {},
   "outputs": [],
   "source": [
    "class_names = [\"T-shirt/top\", \"Trouser\", \"Pullover\", \"Dress\", \"Coat\",\n",
    "\"Sandal\", \"Shirt\", \"Sneaker\", \"Bag\", \"Ankle boot\"]"
   ]
  },
  {
   "cell_type": "code",
   "execution_count": 45,
   "id": "595190a0",
   "metadata": {},
   "outputs": [
    {
     "ename": "AttributeError",
     "evalue": "'Sequential' object has no attribute 'predict_classes'",
     "output_type": "error",
     "traceback": [
      "\u001b[1;31m---------------------------------------------------------------------------\u001b[0m",
      "\u001b[1;31mAttributeError\u001b[0m                            Traceback (most recent call last)",
      "Input \u001b[1;32mIn [45]\u001b[0m, in \u001b[0;36m<cell line: 1>\u001b[1;34m()\u001b[0m\n\u001b[1;32m----> 1\u001b[0m model\u001b[38;5;241m.\u001b[39mpredict_classes(x_new)\n",
      "\u001b[1;31mAttributeError\u001b[0m: 'Sequential' object has no attribute 'predict_classes'"
     ]
    }
   ],
   "source": [
    "model.predict_classes(x_new)"
   ]
  },
  {
   "cell_type": "code",
   "execution_count": 48,
   "id": "f3eb1305",
   "metadata": {},
   "outputs": [],
   "source": [
    "import numpy as np\n",
    "y_new = np.argmax(y_new, axis =1)"
   ]
  },
  {
   "cell_type": "code",
   "execution_count": 49,
   "id": "8700ad69",
   "metadata": {},
   "outputs": [
    {
     "data": {
      "text/plain": [
       "array([9, 2, 1], dtype=int64)"
      ]
     },
     "execution_count": 49,
     "metadata": {},
     "output_type": "execute_result"
    }
   ],
   "source": [
    "y_new"
   ]
  },
  {
   "cell_type": "code",
   "execution_count": 50,
   "id": "b5bafd19",
   "metadata": {},
   "outputs": [
    {
     "data": {
      "text/plain": [
       "array(['Ankle boot', 'Pullover', 'Trouser'], dtype='<U11')"
      ]
     },
     "execution_count": 50,
     "metadata": {},
     "output_type": "execute_result"
    }
   ],
   "source": [
    "np.array(class_names)[y_new]"
   ]
  },
  {
   "cell_type": "code",
   "execution_count": 53,
   "id": "4e000349",
   "metadata": {},
   "outputs": [
    {
     "data": {
      "text/plain": [
       "<matplotlib.image.AxesImage at 0x18f240de970>"
      ]
     },
     "execution_count": 53,
     "metadata": {},
     "output_type": "execute_result"
    },
    {
     "data": {
      "image/png": "[encoded data removed]",
      "text/plain": [
       "<Figure size 432x288 with 1 Axes>"
      ]
     },
     "metadata": {
      "needs_background": "light"
     },
     "output_type": "display_data"
    }
   ],
   "source": [
    "plt.imshow(x_new[2])"
   ]
  },
  {
   "cell_type": "code",
   "execution_count": null,
   "id": "06ec44e0",
   "metadata": {},
   "outputs": [],
   "source": []
  }
 ],
 "metadata": {
  "kernelspec": {
   "display_name": "Python 3 (ipykernel)",
   "language": "python",
   "name": "python3"
  },
  "language_info": {
   "codemirror_mode": {
    "name": "ipython",
    "version": 3
   },
   "file_extension": ".py",
   "mimetype": "text/x-python",
   "name": "python",
   "nbconvert_exporter": "python",
   "pygments_lexer": "ipython3",
   "version": "3.9.10"
  }
 },
 "nbformat": 4,
 "nbformat_minor": 5
}
