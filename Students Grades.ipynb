{
 "cells": [
  {
   "cell_type": "code",
   "execution_count": 223,
   "id": "fb829012",
   "metadata": {},
   "outputs": [],
   "source": [
    "import pandas as pd \n",
    "import numpy as np \n",
    "import matplotlib.pyplot as plt\n",
    "from sklearn import linear_model\n",
    "from sklearn.metrics import mean_squared_error\n",
    "from sklearn.model_selection import train_test_split\n",
    "from sklearn.feature_selection import chi2\n",
    "from sklearn.feature_selection import SelectKBest\n"
   ]
  },
  {
   "cell_type": "code",
   "execution_count": 224,
   "id": "bcdd6314",
   "metadata": {},
   "outputs": [
    {
     "name": "stdout",
     "output_type": "stream",
     "text": [
      "  school sex  age address famsize Pstatus  Medu  Fedu     Mjob      Fjob  ...  \\\n",
      "0     GP   F   18       U     GT3       A     4     4  at_home   teacher  ...   \n",
      "1     GP   F   17       U     GT3       T     1     1  at_home     other  ...   \n",
      "2     GP   F   15       U     LE3       T     1     1  at_home     other  ...   \n",
      "3     GP   F   15       U     GT3       T     4     2   health  services  ...   \n",
      "4     GP   F   16       U     GT3       T     3     3    other     other  ...   \n",
      "\n",
      "  famrel freetime  goout  Dalc  Walc health absences  G1  G2  G3  \n",
      "0      4        3      4     1     1      3        6   5   6   6  \n",
      "1      5        3      3     1     1      3        4   5   5   6  \n",
      "2      4        3      2     2     3      3       10   7   8  10  \n",
      "3      3        2      2     1     1      5        2  15  14  15  \n",
      "4      4        3      2     1     2      5        4   6  10  10  \n",
      "\n",
      "[5 rows x 33 columns]\n"
     ]
    }
   ],
   "source": [
    "data = pd.read_csv('student-mat.csv', sep =';')\n",
    "data = data.dropna()\n",
    "print(data.head())"
   ]
  },
  {
   "cell_type": "code",
   "execution_count": 225,
   "id": "87be2129",
   "metadata": {},
   "outputs": [],
   "source": [
    "droplist = list()\n",
    "for i in data.columns:\n",
    "    if(type(data[i][0]) == str):\n",
    "        droplist.append(i)\n",
    "\n",
    "        \n",
    "data = data.drop(labels = droplist, axis = 1)\n"
   ]
  },
  {
   "cell_type": "code",
   "execution_count": 226,
   "id": "ac6325a2",
   "metadata": {},
   "outputs": [],
   "source": [
    "y = np.array(data['G3']).reshape((-1,1))\n",
    "x = np.array(data.drop(labels = ['G3'], axis = 1))\n",
    "test = SelectKBest(score_func = chi2, k = 8)\n",
    "fit = test.fit(x, y)\n",
    "x = test.transform(x) \n",
    "#x = x[:, np.newaxis,14]"
   ]
  },
  {
   "cell_type": "code",
   "execution_count": 227,
   "id": "23912ae9",
   "metadata": {},
   "outputs": [
    {
     "name": "stdout",
     "output_type": "stream",
     "text": [
      "(395, 8)\n",
      "(395, 1)\n"
     ]
    }
   ],
   "source": [
    "print(x.shape)\n",
    "print(y.shape)"
   ]
  },
  {
   "cell_type": "code",
   "execution_count": 228,
   "id": "5bb4eebe",
   "metadata": {},
   "outputs": [],
   "source": [
    "#train_x = x[ 0 :int(x.shape[0]*0.9) , :]"
   ]
  },
  {
   "cell_type": "code",
   "execution_count": 229,
   "id": "3e6769be",
   "metadata": {},
   "outputs": [],
   "source": [
    "#test_x = x[int(x.shape[0]*0.9) + 1:, :]"
   ]
  },
  {
   "cell_type": "code",
   "execution_count": 230,
   "id": "b372baab",
   "metadata": {},
   "outputs": [],
   "source": [
    "#train_y = y[0:int(x.shape[0]*0.9)]"
   ]
  },
  {
   "cell_type": "code",
   "execution_count": 231,
   "id": "2947d6e2",
   "metadata": {},
   "outputs": [
    {
     "name": "stdout",
     "output_type": "stream",
     "text": [
      "(355, 8)\n",
      "(355, 1)\n"
     ]
    }
   ],
   "source": [
    "#test_y = y[int(x.shape[0]*0.9) + 1:]\n",
    "\n",
    "train_x , test_x, train_y, test_y = train_test_split(x, y, test_size = 0.1)\n",
    "print(train_x.shape)\n",
    "print(train_y.shape)"
   ]
  },
  {
   "cell_type": "code",
   "execution_count": 232,
   "id": "d49f17fb",
   "metadata": {},
   "outputs": [],
   "source": [
    "model = linear_model.LinearRegression()"
   ]
  },
  {
   "cell_type": "code",
   "execution_count": 233,
   "id": "6a35c450",
   "metadata": {},
   "outputs": [
    {
     "data": {
      "text/plain": [
       "LinearRegression()"
      ]
     },
     "execution_count": 233,
     "metadata": {},
     "output_type": "execute_result"
    }
   ],
   "source": [
    "model.fit(train_x, train_y)"
   ]
  },
  {
   "cell_type": "code",
   "execution_count": 234,
   "id": "b0cf9f64",
   "metadata": {},
   "outputs": [],
   "source": [
    "predicted_values = model.predict(test_x)"
   ]
  },
  {
   "cell_type": "code",
   "execution_count": 235,
   "id": "102f3f72",
   "metadata": {},
   "outputs": [
    {
     "name": "stdout",
     "output_type": "stream",
     "text": [
      "3.1841936224094636\n"
     ]
    }
   ],
   "source": [
    "error = mean_squared_error(predicted_values, test_y)\n",
    "print(error)"
   ]
  },
  {
   "cell_type": "code",
   "execution_count": 236,
   "id": "84f39724",
   "metadata": {},
   "outputs": [],
   "source": [
    "# plt.scatter(test_x, test_y)\n",
    "# plt.plot(test_x, predicted_values , color = \"red\")\n",
    "# plt.show()"
   ]
  },
  {
   "cell_type": "code",
   "execution_count": 237,
   "id": "ab9c7728",
   "metadata": {},
   "outputs": [
    {
     "name": "stdout",
     "output_type": "stream",
     "text": [
      "[[-0.02694641 -0.29679697  0.02446725 -0.10615099  0.13780112  0.03546695\n",
      "   0.13820545  0.97943807]]\n",
      "[-1.85639213]\n",
      "0.8581611460270291\n"
     ]
    }
   ],
   "source": [
    "print(model.coef_)\n",
    "print(model.intercept_)\n",
    "print(model.score(test_x, test_y))"
   ]
  },
  {
   "cell_type": "code",
   "execution_count": null,
   "id": "10858a6f",
   "metadata": {},
   "outputs": [],
   "source": []
  },
  {
   "cell_type": "code",
   "execution_count": null,
   "id": "e5f50a4e",
   "metadata": {},
   "outputs": [],
   "source": []
  }
 ],
 "metadata": {
  "kernelspec": {
   "display_name": "Python 3 (ipykernel)",
   "language": "python",
   "name": "python3"
  },
  "language_info": {
   "codemirror_mode": {
    "name": "ipython",
    "version": 3
   },
   "file_extension": ".py",
   "mimetype": "text/x-python",
   "name": "python",
   "nbconvert_exporter": "python",
   "pygments_lexer": "ipython3",
   "version": "3.9.7"
  }
 },
 "nbformat": 4,
 "nbformat_minor": 5
}
